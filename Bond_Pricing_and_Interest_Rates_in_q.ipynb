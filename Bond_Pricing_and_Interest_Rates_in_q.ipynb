{
 "cells": [
  {
   "cell_type": "markdown",
   "metadata": {},
   "source": [
    "# Bond pricing and Interest Rates in q"
   ]
  },
  {
   "cell_type": "markdown",
   "metadata": {},
   "source": [
    "## Price of a zero-coupon bond"
   ]
  },
  {
   "cell_type": "markdown",
   "metadata": {},
   "source": [
    "### Annually compounded"
   ]
  },
  {
   "cell_type": "code",
   "execution_count": 1,
   "metadata": {},
   "outputs": [],
   "source": [
    "/\n",
    "Pricing a zero coupon bond annually compounded\n",
    "\n",
    "par - face value of the bond\n",
    "y - annual yield or rate of the bond\n",
    "t - time to maturity in years\n",
    "\\\n",
    "zero_coupon_bond:{[par;y;t] par%(1+y) xexp t}"
   ]
  },
  {
   "cell_type": "code",
   "execution_count": 2,
   "metadata": {},
   "outputs": [
    {
     "data": {
      "text/plain": [
       "78.35\n"
      ]
     },
     "execution_count": 2,
     "metadata": {},
     "output_type": "execute_result"
    }
   ],
   "source": [
    "round:{[d;n]  (\"j\"$n*d) % d:xexp[10]d}\n",
    "round[2] zero_coupon_bond[100;0.05;5] / price of a 5-year, $100, zero-coupon bond with yield at 5 percent, annually compounded."
   ]
  },
  {
   "cell_type": "markdown",
   "metadata": {},
   "source": [
    "### Continuously compounded"
   ]
  },
  {
   "cell_type": "code",
   "execution_count": 3,
   "metadata": {},
   "outputs": [],
   "source": [
    "/\n",
    "Pricing a zero coupon bond continuously compounded\n",
    "\n",
    "The parameters are the same as before\n",
    "\\\n",
    "zero_coupon_continuous_bond:{[par;y;t] par*exp neg y*t}"
   ]
  },
  {
   "cell_type": "code",
   "execution_count": 30,
   "metadata": {},
   "outputs": [
    {
     "data": {
      "text/plain": [
       "100f\n"
      ]
     },
     "execution_count": 30,
     "metadata": {},
     "output_type": "execute_result"
    }
   ],
   "source": [
    "round[2] zero_coupon_continuous_bond[128.40;0.05;5] / price of a 5-year, $128.40, zero bond, yield 5%, continuously compounded."
   ]
  },
  {
   "cell_type": "markdown",
   "metadata": {},
   "source": [
    "## Bootstrapping a yield curve"
   ]
  },
  {
   "cell_type": "code",
   "execution_count": 31,
   "metadata": {},
   "outputs": [],
   "source": [
    "/\n",
    "Bootstrapping a yield curve\n",
    "\n",
    "par - bond principal ($)\n",
    "T - time to maturity (years)\n",
    "coup - annual coupon ($)\n",
    "price - bond price ($)\n",
    "freq - number of coupon payments per annum\n",
    "\\\n",
    "\n",
    "data:([] par:();T:();coup:();price:();freq:())"
   ]
  },
  {
   "cell_type": "code",
   "execution_count": 32,
   "metadata": {},
   "outputs": [],
   "source": [
    "/ Data from Hull, p. 106\n",
    "\n",
    "data,:(100;0.25;0.;97.5;2)\n",
    "data,:(100;0.5;0.;94.9;2)\n",
    "data,:(100;1.5;8.;96.;2)\n",
    "data,:(100;2.;12.;101.6;2)\n",
    "data,:(100;1.;0.;90.;2)"
   ]
  },
  {
   "cell_type": "code",
   "execution_count": 33,
   "metadata": {},
   "outputs": [
    {
     "data": {
      "text/plain": [
       "par T    coup price freq\n",
       "------------------------\n",
       "100 0.25 0    97.5  2   \n",
       "100 0.5  0    94.9  2   \n",
       "100 1.5  8    96    2   \n",
       "100 2    12   101.6 2   \n",
       "100 1    0    90    2   \n"
      ]
     },
     "execution_count": 33,
     "metadata": {},
     "output_type": "execute_result"
    }
   ],
   "source": [
    "data"
   ]
  },
  {
   "cell_type": "code",
   "execution_count": 40,
   "metadata": {},
   "outputs": [
    {
     "data": {
      "text/plain": [
       "`data\n"
      ]
     },
     "execution_count": 40,
     "metadata": {},
     "output_type": "execute_result"
    },
    {
     "data": {
      "text/plain": [
       "par T    coup price freq rate     \n",
       "----------------------------------\n",
       "100 0.25 0    97.5  2    0.1012712\n",
       "100 0.5  0    94.9  2    0.104693 \n",
       "100 1    0    90    2    0.1053605\n",
       "100 1.5  8    96    2    0        \n",
       "100 2    12   101.6 2    0        \n"
      ]
     },
     "execution_count": 40,
     "metadata": {},
     "output_type": "execute_result"
    }
   ],
   "source": [
    "`T xasc `data / sorts the data table on T\n",
    "\n",
    "/ Let us compute the rates of zero-coupon bonds. Coupon-bearind bonds are assigned zero.\n",
    "b_z_c: select par,T,coup,price,freq,rate: ?[coup=0;(log par%price)%T;0.] from data\n",
    "b_z_c"
   ]
  },
  {
   "cell_type": "code",
   "execution_count": 41,
   "metadata": {},
   "outputs": [
    {
     "data": {
      "text/plain": [
       "T   | par coup price freq rate     \n",
       "----| -----------------------------\n",
       "0.25| 100 0    97.5  2    0.1012712\n",
       "0.5 | 100 0    94.9  2    0.104693 \n",
       "1   | 100 0    90    2    0.1053605\n",
       "1.5 | 100 8    96    2    0.1068093\n",
       "2   | 100 12   101.6 2    0.1080803\n"
      ]
     },
     "execution_count": 41,
     "metadata": {},
     "output_type": "execute_result"
    }
   ],
   "source": [
    "b_z_c_k:`T xkey b_z_c / Creating a keyed table on T\n",
    "\n",
    "T_l:key b_z_c_k / Get the T values\n",
    "\n",
    "i:0\n",
    "\n",
    "/\n",
    "In order to compute the rates of coupon-bearing bonds, we set a double while loop. The outer loop iterates through\n",
    "each row of the table. The if statement verifies whether the instrument is coupon-bearing (those with rate presently\n",
    "set to zero). The inner loop subtracts from the instrument's price the present values of the coupons. After the inner\n",
    "loop is done, the command calculates the contribution of the last coupon + maturity.\n",
    "\\\n",
    "while[i<count b_z_c_k;if[b_z_c_k[T_l[i];`rate]=0;val:b_z_c_k[T_l[i];`price];fre:b_z_c_k[T_l[i];`freq];\n",
    "        pc:b_z_c_k[T_l[i];`coup]%fre;peri:T_l[i]*fre;j:0;while[j<(first peri)-1;t:(j+1)%fre;spot:b_z_c_k[t;`rate];\n",
    "        val -:pc * exp neg spot * t;j+:1];b_z_c_k[T_l[i];`rate]: first neg(log(val%(b_z_c_k[T_l[i];`par]+pc)))%T_l[i]];\n",
    "        i+:1]\n",
    "\n",
    "b_z_c_k"
   ]
  },
  {
   "cell_type": "code",
   "execution_count": 42,
   "metadata": {},
   "outputs": [
    {
     "data": {
      "image/png": "[encoded data removed]",
      "text/plain": [
       "<Figure size 460.8x345.6 with 1 Axes>"
      ]
     },
     "metadata": {},
     "output_type": "display_data"
    }
   ],
   "source": [
    "/ Module with wrapper for matplotlib.pyplot written in q\n",
    "\\l importmatplotlib.q\n",
    "\n",
    "x:()\n",
    "y:()\n",
    "i:0\n",
    "while[i<count key b_z_c_k; x,:first (key b_z_c_k)[i]; y,:b_z_c_k[T_l[i];`rate];i+:1]\n",
    "\n",
    "plt:.matplotlib.pyplot[]\n",
    "plt.\n",
    "/\\t plt:.p.module .p.import`matplotlib.pyplot\n",
    "plt.plot[x;y];\n",
    "plt.xlabel\"Maturity (years)\";\n",
    "plt.ylabel\"Interest rate (% per annum)\";\n",
    "plt.title\"Zero rates given by the bootstrap method\";\n",
    "plt.grid 1b;\n",
    "plt.show[];"
   ]
  },
  {
   "cell_type": "markdown",
   "metadata": {},
   "source": [
    "## Implementing Newton-Raphson method and calculating yield to maturity"
   ]
  },
  {
   "cell_type": "code",
   "execution_count": 3,
   "metadata": {},
   "outputs": [
    {
     "data": {
      "text/plain": [
       "6.76\n"
      ]
     },
     "execution_count": 3,
     "metadata": {},
     "output_type": "execute_result"
    }
   ],
   "source": [
    "/\n",
    "Given, as before, price, par, T, coup, freq, and aditionally an initial guess, calculate the yield to maturity.\n",
    "\\\n",
    "bond_ytm:{[price;par;T;coup;freq;guess] per:T*freq;\n",
    "            coupon:coup*par%100*freq;\n",
    "            \n",
    "            / coupon payment dates\n",
    "            dt:(1+til floor per)%freq;\n",
    "            \n",
    "            / helper function is an implementation of Newton's method\n",
    "            N:{[dt;coupon;par;T;price;x]f:(sum coupon*exp neg x*dt)+(par*exp neg T*x)-price;\n",
    "            derf:(sum neg coupon*dt*exp neg x*dt)+neg T*par*exp neg T*x;\n",
    "            x-f%derf}[dt;coupon;par;T;price;];\n",
    "\n",
    "            / helper function is applied until default convergence\n",
    "            N/[guess]}\n",
    "\n",
    "ytm:round[2] 100*bond_ytm[98.39;100;2;6;2;0.05] / Hull example (p. 105).\n",
    "ytm / YTM expressed as percentage per annum."
   ]
  },
  {
   "cell_type": "markdown",
   "metadata": {},
   "source": [
    "## Calculating the price of a bond with YTM"
   ]
  },
  {
   "cell_type": "code",
   "execution_count": 4,
   "metadata": {},
   "outputs": [],
   "source": [
    "/ calculates bond price from YTM\n",
    "\n",
    "bond_price:{[par;T;ytm;coup;freq] per:T*freq;\n",
    "            coupon:coup*par%100*freq;\n",
    "            / coupon payment dates\n",
    "            dt:(1+til floor per)%freq;\n",
    "            (sum coupon*exp neg ytm*dt)+par*exp neg ytm*T}"
   ]
  },
  {
   "cell_type": "code",
   "execution_count": 5,
   "metadata": {},
   "outputs": [
    {
     "data": {
      "text/plain": [
       "98.39\n"
      ]
     },
     "execution_count": 5,
     "metadata": {},
     "output_type": "execute_result"
    }
   ],
   "source": [
    "round[2] bond_price[100;2;0.0676;6;2]"
   ]
  },
  {
   "cell_type": "markdown",
   "metadata": {},
   "source": [
    "## Modified duration of a bond\n",
    "\n",
    "The modified duration of a bond can be thought of as the first derivative of the relationship between price and yield:\n",
    "\n",
    "modified duration ≅ (P- − P+) / 2(P0)(dY) , where dy is the given change in yield, P− is the price of the bond from a decrease in yield by dy, P+ is the price of the bond from an increase in yield by dy, and P0 is the initial price of the bond (Weiming)."
   ]
  },
  {
   "cell_type": "code",
   "execution_count": 8,
   "metadata": {},
   "outputs": [
    {
     "data": {
      "text/plain": [
       "1.457356\n"
      ]
     },
     "execution_count": 8,
     "metadata": {},
     "output_type": "execute_result"
    }
   ],
   "source": [
    "price:95.04\n",
    "par:100\n",
    "T:1.5\n",
    "coup:5.75\n",
    "freq:2\n",
    "dy:0.01\n",
    "guess:0.05\n",
    "\n",
    "ytm:bond_ytm[price;par;T;coup;freq;guess]\n",
    "ytm_minus:ytm-dy\n",
    "price_minus:bond_price[par;T;ytm_minus;coup;freq]\n",
    "ytm_plus:ytm + dy\n",
    "price_plus:bond_price[par;T;ytm_plus;coup;freq]\n",
    "mduration:(price_minus-price_plus)%2*price*dy\n",
    "mduration / modified duration of the bond in years"
   ]
  },
  {
   "cell_type": "markdown",
   "metadata": {},
   "source": [
    "## Bond Convexity\n",
    "\n",
    "Convexity is the sensitivity measure of the duration of a bond to yield changes (Weiming):\n",
    "\n",
    "convexity ≅ (P− + P+ − 2P0) / (P0)(dy)^2"
   ]
  },
  {
   "cell_type": "code",
   "execution_count": 9,
   "metadata": {},
   "outputs": [
    {
     "data": {
      "text/plain": [
       "2.157743\n"
      ]
     },
     "execution_count": 9,
     "metadata": {},
     "output_type": "execute_result"
    }
   ],
   "source": [
    "ytm:bond_ytm[price;par;T;coup;freq;guess]\n",
    "ytm_minus:ytm-dy\n",
    "price_minus:bond_price[par;T;ytm_minus;coup;freq]\n",
    "ytm_plus:ytm + dy\n",
    "price_plus:bond_price[par;T;ytm_plus;coup;freq]\n",
    "convexity:(price_minus+price_plus-2*price)%price*dy xexp 2\n",
    "convexity"
   ]
  },
  {
   "cell_type": "markdown",
   "metadata": {},
   "source": [
    "## Short-rate modeling with the Vasicek Model\n",
    "\n",
    "In the one-factor Vasicek model, the short rate is modeled as a single stochastic factor (Weiming):\n",
    "\n",
    "dr(t) = K(θ−r(t))dt + σdW(t),\n",
    "\n",
    "where K, θ and σ are constants, and σ is the instantaneous standard deviation. W(t) is the random Wiener process."
   ]
  },
  {
   "cell_type": "code",
   "execution_count": 18,
   "metadata": {},
   "outputs": [],
   "source": [
    "/\n",
    "Function to compute normally distributed random numbers (copied from <http://kx.com/q/stat.q>)\n",
    "\\\n",
    "\n",
    "pi:acos -1\n",
    "\n",
    "/ normal from x\n",
    "nx:{abs(x>0)-(exp[-.5*x*x]%sqrt 2*pi)*t*.31938153+t*-.356563782+t*1.781477937+t*-1.821255978+1.330274429*t:1%1+.2316419*abs x}\n",
    "\n",
    "/ x from normal  (chebychev near 0.5 and log for the tails)\n",
    "xn:{$[.5>x;0-.z.s 1-x;.92>x;\n",
    " (x*2.50662823884+l*-18.61500062529+l*41.39119773534+l*-25.44106049637)%1+l*-8.47351093090+l*23.08336743743+l*-21.06224101826+3.13082909833*l:x*x-:.5;\n",
    " 0.3374754822726147+l*0.9761690190917186+l*0.1607979714918209+l*0.0276438810333863+l*0.0038405729373609+l*0.0003951896511919+l*0.0000321767881768+l*0.0000002888167364+0.0000003960315187*l:log 0-log 1-x]}\n",
    "\n",
    "/ random normal distribution, e.g. nor 10\n",
    "nor:{$[x=2*n:x div 2;raze sqrt[-2*log n?1f]*/:(sin;cos)@\\:(2*pi)*n?1f;-1_.z.s 1+x]}\n"
   ]
  },
  {
   "cell_type": "code",
   "execution_count": 46,
   "metadata": {},
   "outputs": [],
   "source": [
    "r0:0.01875\n",
    "K:0.20\n",
    "theta:0.01\n",
    "sigma:0.012\n",
    "T:10.\n",
    "N:100\n",
    "\n",
    "dt:T%N\n",
    "rates:enlist r0\n",
    "i:0\n",
    "\n",
    "while[i<N;\n",
    "        / computes the step length\n",
    "        dr:K*dt*(theta-last rates)+sigma*first nor 1;\n",
    "        / saves the rate's computed value\n",
    "        rates,:last rates+dr;\n",
    "        / advances to the next point\n",
    "        i+:1]\n",
    "\n"
   ]
  },
  {
   "cell_type": "code",
   "execution_count": 47,
   "metadata": {},
   "outputs": [
    {
     "data": {
      "image/png": "[encoded data removed]",
      "text/plain": [
       "<Figure size 460.8x345.6 with 1 Axes>"
      ]
     },
     "metadata": {},
     "output_type": "display_data"
    }
   ],
   "source": [
    "/ Module with wrapper for matplotlib.pyplot written in q\n",
    "\\l importmatplotlib.q\n",
    "\n",
    "plt:.matplotlib.pyplot[]\n",
    "plt.\n",
    "/\\t plt:.p.module .p.import`matplotlib.pyplot\n",
    "\n",
    "x:til N+1\n",
    "y:rates\n",
    "\n",
    "plt.plot[x;y];\n",
    "plt.xlabel\"Time\";\n",
    "plt.ylabel\"Interest rate (% per annum)\";\n",
    "plt.title\"Interest Rate Path by Vasicek Model\";\n",
    "plt.grid 1b;\n",
    "plt.show[];"
   ]
  }
 ],
 "metadata": {
  "kernelspec": {
   "display_name": "Q (kdb+)",
   "language": "q",
   "name": "qpk"
  },
  "language_info": {
   "file_extension": ".q",
   "mimetype": "text/x-q",
   "name": "q",
   "version": "3.6.0"
  }
 },
 "nbformat": 4,
 "nbformat_minor": 2
}
